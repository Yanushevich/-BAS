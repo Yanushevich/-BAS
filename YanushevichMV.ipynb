{
  "cells": [
    {
      "cell_type": "markdown",
      "id": "f410496a",
      "metadata": {
        "id": "f410496a"
      },
      "source": [
        "# Греческий алфавит\n",
        "\n",
        "\\begin{array}{ccc}                              \n",
        "\\text{Заглавная}&\\text{Cтрочная}                \n",
        "&\\text{Название}\\\\                               \n",
        "1. \\text{Α}&{α}&Альфа\\\\                           \n",
        "2. \\text{Β}&{β}&Бета\\\\\n",
        "3. \\text{Γ}&{γ}&Гамма \\\\\n",
        "4. \\text{Δ}&{δ}&Дельта \\\\\n",
        "5. \\text{Ε}&{ϵ}&Эпсилон \\\\\n",
        "6. \\text{Ζ}&{ζ}&Дзета \\\\\n",
        "7. \\text{Η}&{η}&Эта  \\\\\n",
        "8. \\text{Θ}&{θ}&Тета\\\\\n",
        "9. \\text{Ι}&{ι}&Йота\\\\\n",
        "10. \\text{Κ}&{κ}&Каппа   \\\\\n",
        "11. \\text{Λ}&{λ}&Лямбда \\\\\n",
        "12. \\text{M}&{μ}&Мю \\\\\n",
        "13. \\text{Ν}&{ν}&Ню  \\\\\n",
        "14. \\text{Ξ}&{ξ}&Кси  \\\\\n",
        "15. \\text{O}&{o}&Омикрон \\\\\n",
        "16. \\text{Π}&{π}&Пи  \\\\\n",
        "17. \\text{Ρ}&{ρ}&Ро   \\\\\n",
        "18. \\text{Σ}&{σ}&Сигма   \\\\\n",
        "19. \\text{Τ}&{τ}&Тау   \\\\\n",
        "20. \\text{Υ}&{υ}&Ипсилон   \\\\\n",
        "21. \\text{Φ}&{ϕ}&Фи  \\\\\n",
        "22. \\text{Χ}&{χ}&Хи   \\\\\n",
        "23. \\text{Ψ}&{ψ}&Пси   \\\\\n",
        "24. \\text{Ω}&{ω}&Омега  \\\\\n",
        " \\end{array}\n",
        " \n",
        " Формула в отдельной строке\n",
        "$${\\displaystyle f(x)={\\frac {1}{\\sigma {\\sqrt {2\\pi }}}}e^\n",
        "{-{\\frac {1}{2}}\\left({\\frac {x-\\mu }{\\sigma }}\\right)^{2}}}$$\n",
        "\n",
        "Формула в тексте: ${\\displaystyle f(x)={\\frac {1}{\\sigma {\\sqrt {2\\pi }}}}e^\n",
        "{-{\\frac {1}{2}}\\left({\\frac {x-\\mu }{\\sigma }}\\right)^{2}}}$\n",
        "\n",
        "# Заголовок первого уровня\n",
        "## Заголовок второго уровня\n",
        "### Заголовок третьего уровня"
      ]
    }
  ],
  "metadata": {
    "kernelspec": {
      "display_name": "Python 3",
      "language": "python",
      "name": "python3"
    },
    "language_info": {
      "codemirror_mode": {
        "name": "ipython",
        "version": 3
      },
      "file_extension": ".py",
      "mimetype": "text/x-python",
      "name": "python",
      "nbconvert_exporter": "python",
      "pygments_lexer": "ipython3",
      "version": "3.6.15"
    },
    "colab": {
      "name": "YanushevichMV.ipynb",
      "provenance": []
    }
  },
  "nbformat": 4,
  "nbformat_minor": 5
}